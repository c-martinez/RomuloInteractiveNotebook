{
 "cells": [
  {
   "cell_type": "markdown",
   "metadata": {},
   "source": [
    "# Interactive notebook\n",
    "This notebook should serve as a base for you to make your interactive plots.\n",
    "\n",
    "I start by importing pylab -- this already imports matplotlibe as plt and numpy as np."
   ]
  },
  {
   "cell_type": "code",
   "execution_count": 1,
   "metadata": {},
   "outputs": [
    {
     "name": "stdout",
     "output_type": "stream",
     "text": [
      "Populating the interactive namespace from numpy and matplotlib\n"
     ]
    }
   ],
   "source": [
    "%pylab inline"
   ]
  },
  {
   "cell_type": "markdown",
   "metadata": {},
   "source": [
    "## Level 1 -- the basics\n",
    "The next cell shows how an interactive plot works. Basically you have a function (called `wave` in this example) which gets called every time the slider changes. The value on the slider is passed to the function and the function does the plotting.\n",
    "\n",
    "Longer, more detailed explanation can be found [here](http://ipywidgets.readthedocs.io/en/latest/examples/Using%20Interact.html) which is where I took the example anyway."
   ]
  },
  {
   "cell_type": "code",
   "execution_count": 2,
   "metadata": {},
   "outputs": [
    {
     "data": {
      "application/vnd.jupyter.widget-view+json": {
       "model_id": "1aa8a756100b4df3be202e5e821ccfbc"
      }
     },
     "metadata": {},
     "output_type": "display_data"
    }
   ],
   "source": [
    "from ipywidgets import interactive\n",
    "  \n",
    "def wave(i):\n",
    "    x = np.linspace(0, np.pi * 2)\n",
    "    y = np.sin(x * i)\n",
    "    plt.plot(x,y)\n",
    "    plt.show()\n",
    "\n",
    "interactive_plot = interactive(wave, i=(1,3))\n",
    "interactive_plot"
   ]
  },
  {
   "cell_type": "markdown",
   "metadata": {},
   "source": [
    "## Level 2 -- your images\n",
    "Basics are the same, so no need to explain further. Only difference is that the function here loads one of your satelite images, and the parameter (`year`) is the year of the image to show."
   ]
  },
  {
   "cell_type": "code",
   "execution_count": 4,
   "metadata": {},
   "outputs": [
    {
     "data": {
      "application/vnd.jupyter.widget-view+json": {
       "model_id": "8a2d4ff33a974d7c8bb46618c0d5b5a2"
      }
     },
     "metadata": {},
     "output_type": "display_data"
    }
   ],
   "source": [
    "import matplotlib.image as mpimg\n",
    "\n",
    "def showImageForYear(year = 1980):\n",
    "    img = mpimg.imread('data/clusters_3_60_75_%d_.png'%year)\n",
    "    plt.figure(figsize=(10,10))\n",
    "    plt.imshow(img, cmap='gray')\n",
    "    plt.axis('off')\n",
    "    plt.show()\n",
    "\n",
    "interactive_plot = interactive(showImageForYear, year=(1980,1982))\n",
    "interactive_plot"
   ]
  },
  {
   "cell_type": "code",
   "execution_count": null,
   "metadata": {
    "collapsed": true
   },
   "outputs": [],
   "source": []
  },
  {
   "cell_type": "code",
   "execution_count": null,
   "metadata": {
    "collapsed": true
   },
   "outputs": [],
   "source": []
  },
  {
   "cell_type": "code",
   "execution_count": null,
   "metadata": {
    "collapsed": true
   },
   "outputs": [],
   "source": []
  }
 ],
 "metadata": {
  "kernelspec": {
   "display_name": "Python 2",
   "language": "python",
   "name": "python2"
  },
  "language_info": {
   "codemirror_mode": {
    "name": "ipython",
    "version": 2
   },
   "file_extension": ".py",
   "mimetype": "text/x-python",
   "name": "python",
   "nbconvert_exporter": "python",
   "pygments_lexer": "ipython2",
   "version": "2.7.13"
  },
  "widgets": {
   "state": {
    "fe0593596316430a823391d613f32dc5": {
     "views": [
      {
       "cell_index": 8
      }
     ]
    }
   },
   "version": "1.2.0"
  }
 },
 "nbformat": 4,
 "nbformat_minor": 1
}
